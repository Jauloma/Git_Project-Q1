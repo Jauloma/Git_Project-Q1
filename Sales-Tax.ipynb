{
 "cells": [
  {
   "cell_type": "markdown",
   "id": "59d1137d",
   "metadata": {},
   "source": [
    "## <center> Individual Project\n",
    "### Week 8\n",
    "### <i> By Jacob Oriang Jaroya"
   ]
  },
  {
   "cell_type": "markdown",
   "id": "4cce2a22",
   "metadata": {},
   "source": [
    "#### In the peer programming project, we created a data frame representing our store’s products and sales. In\n",
    "#### this exercise, we’re going to extend that data frame, quite literally.\n",
    "\n",
    "\n",
    "#### The backstory for this exercise is as follows: Our local government is thinking about imposing a\n",
    "#### sales tax, and is thinking about 15, 20, and 25 percent rates. Show how much less you would net\n",
    "####  with each of these tax amounts by adding columns to the data frame for current income, as well."
   ]
  },
  {
   "cell_type": "code",
   "execution_count": 1,
   "id": "51de3988",
   "metadata": {},
   "outputs": [],
   "source": [
    "import pandas as pd"
   ]
  },
  {
   "cell_type": "code",
   "execution_count": 2,
   "id": "46fefd1c",
   "metadata": {},
   "outputs": [],
   "source": [
    "sales_dict=[{'product_id':23, 'name':'computer', 'wholesale_price': 500, 'retail_price':1000, 'sales':100}, \n",
    "{'product_id':96, 'name':'Python Workout', 'wholesale_price': 35,'retail_price':75, 'sales':1000},\n",
    "{'product_id':97, 'name':'Pandas Workout', 'wholesale_price': 35, 'retail_price':75, 'sales':500},\n",
    "{'product_id':15, 'name':'banana', 'wholesale_price': 0.5,'retail_price':1, 'sales':200},\n",
    "{'product_id':87, 'name':'sandwich', 'wholesale_price': 3,'retail_price':5, 'sales':300}]"
   ]
  },
  {
   "cell_type": "code",
   "execution_count": 3,
   "id": "2d484a6d",
   "metadata": {},
   "outputs": [],
   "source": [
    "# creating dataframe from \"my_dict\"\n",
    "sales_df = pd.DataFrame(sales_dict)"
   ]
  },
  {
   "cell_type": "code",
   "execution_count": 4,
   "id": "6899211b",
   "metadata": {},
   "outputs": [
    {
     "name": "stdout",
     "output_type": "stream",
     "text": [
      "   product_id            name  wholesale_price  retail_price  sales\n",
      "0          23        computer            500.0          1000    100\n",
      "1          96  Python Workout             35.0            75   1000\n",
      "2          97  Pandas Workout             35.0            75    500\n",
      "3          15          banana              0.5             1    200\n",
      "4          87        sandwich              3.0             5    300\n"
     ]
    }
   ],
   "source": [
    "# Displaying \"my_df\" DataFrame\n",
    "print(sales_df)"
   ]
  },
  {
   "cell_type": "code",
   "execution_count": 5,
   "id": "24563957",
   "metadata": {},
   "outputs": [],
   "source": [
    "# How much total net revenue you received from all of these sales?\n",
    "sales_df['total_net_revenue']= ((sales_df['retail_price'] - sales_df['wholesale_price']) * sales_df['sales'])\n",
    "sales_df['total_net_revenue_at_15_tax'] = ((sales_df['retail_price']*0.85 - sales_df['wholesale_price']) * sales_df['sales'])\n",
    "sales_df['total_net_revenue_at_20_tax'] = ((sales_df['retail_price']*0.8 - sales_df['wholesale_price']) * sales_df['sales'])\n",
    "sales_df['total_net_revenue_at_25_tax']= ((sales_df['retail_price']*0.75 - sales_df['wholesale_price']) *sales_df['sales'])"
   ]
  },
  {
   "cell_type": "code",
   "execution_count": 6,
   "id": "0f2270fa",
   "metadata": {},
   "outputs": [
    {
     "data": {
      "text/html": [
       "<div>\n",
       "<style scoped>\n",
       "    .dataframe tbody tr th:only-of-type {\n",
       "        vertical-align: middle;\n",
       "    }\n",
       "\n",
       "    .dataframe tbody tr th {\n",
       "        vertical-align: top;\n",
       "    }\n",
       "\n",
       "    .dataframe thead th {\n",
       "        text-align: right;\n",
       "    }\n",
       "</style>\n",
       "<table border=\"1\" class=\"dataframe\">\n",
       "  <thead>\n",
       "    <tr style=\"text-align: right;\">\n",
       "      <th></th>\n",
       "      <th>product_id</th>\n",
       "      <th>name</th>\n",
       "      <th>wholesale_price</th>\n",
       "      <th>retail_price</th>\n",
       "      <th>sales</th>\n",
       "      <th>total_net_revenue</th>\n",
       "      <th>total_net_revenue_at_15_tax</th>\n",
       "      <th>total_net_revenue_at_20_tax</th>\n",
       "      <th>total_net_revenue_at_25_tax</th>\n",
       "    </tr>\n",
       "  </thead>\n",
       "  <tbody>\n",
       "    <tr>\n",
       "      <th>0</th>\n",
       "      <td>23</td>\n",
       "      <td>computer</td>\n",
       "      <td>500.0</td>\n",
       "      <td>1000</td>\n",
       "      <td>100</td>\n",
       "      <td>50000.0</td>\n",
       "      <td>35000.0</td>\n",
       "      <td>30000.0</td>\n",
       "      <td>25000.0</td>\n",
       "    </tr>\n",
       "    <tr>\n",
       "      <th>1</th>\n",
       "      <td>96</td>\n",
       "      <td>Python Workout</td>\n",
       "      <td>35.0</td>\n",
       "      <td>75</td>\n",
       "      <td>1000</td>\n",
       "      <td>40000.0</td>\n",
       "      <td>28750.0</td>\n",
       "      <td>25000.0</td>\n",
       "      <td>21250.0</td>\n",
       "    </tr>\n",
       "    <tr>\n",
       "      <th>2</th>\n",
       "      <td>97</td>\n",
       "      <td>Pandas Workout</td>\n",
       "      <td>35.0</td>\n",
       "      <td>75</td>\n",
       "      <td>500</td>\n",
       "      <td>20000.0</td>\n",
       "      <td>14375.0</td>\n",
       "      <td>12500.0</td>\n",
       "      <td>10625.0</td>\n",
       "    </tr>\n",
       "    <tr>\n",
       "      <th>3</th>\n",
       "      <td>15</td>\n",
       "      <td>banana</td>\n",
       "      <td>0.5</td>\n",
       "      <td>1</td>\n",
       "      <td>200</td>\n",
       "      <td>100.0</td>\n",
       "      <td>70.0</td>\n",
       "      <td>60.0</td>\n",
       "      <td>50.0</td>\n",
       "    </tr>\n",
       "    <tr>\n",
       "      <th>4</th>\n",
       "      <td>87</td>\n",
       "      <td>sandwich</td>\n",
       "      <td>3.0</td>\n",
       "      <td>5</td>\n",
       "      <td>300</td>\n",
       "      <td>600.0</td>\n",
       "      <td>375.0</td>\n",
       "      <td>300.0</td>\n",
       "      <td>225.0</td>\n",
       "    </tr>\n",
       "  </tbody>\n",
       "</table>\n",
       "</div>"
      ],
      "text/plain": [
       "   product_id            name  wholesale_price  retail_price  sales  \\\n",
       "0          23        computer            500.0          1000    100   \n",
       "1          96  Python Workout             35.0            75   1000   \n",
       "2          97  Pandas Workout             35.0            75    500   \n",
       "3          15          banana              0.5             1    200   \n",
       "4          87        sandwich              3.0             5    300   \n",
       "\n",
       "   total_net_revenue  total_net_revenue_at_15_tax  \\\n",
       "0            50000.0                      35000.0   \n",
       "1            40000.0                      28750.0   \n",
       "2            20000.0                      14375.0   \n",
       "3              100.0                         70.0   \n",
       "4              600.0                        375.0   \n",
       "\n",
       "   total_net_revenue_at_20_tax  total_net_revenue_at_25_tax  \n",
       "0                      30000.0                      25000.0  \n",
       "1                      25000.0                      21250.0  \n",
       "2                      12500.0                      10625.0  \n",
       "3                         60.0                         50.0  \n",
       "4                        300.0                        225.0  "
      ]
     },
     "execution_count": 6,
     "metadata": {},
     "output_type": "execute_result"
    }
   ],
   "source": [
    "sales_df"
   ]
  },
  {
   "cell_type": "markdown",
   "id": "3b846d62",
   "metadata": {},
   "source": [
    "### Working out Total Revenue before and after tax"
   ]
  },
  {
   "cell_type": "code",
   "execution_count": 9,
   "id": "7f2d7234",
   "metadata": {},
   "outputs": [],
   "source": [
    "# Calculating total revenue\n",
    "total_net_revenue = sales_df['total_net_revenue'].sum()\n",
    "total_net_revenue_at_15_tax= sales_df['total_net_revenue_at_15_tax'].sum()\n",
    "total_net_revenue_at_20_tax=sales_df['total_net_revenue_at_20_tax'].sum()\n",
    "total_net_revenue_at_25_tax= sales_df['total_net_revenue_at_25_tax'].sum()"
   ]
  },
  {
   "cell_type": "code",
   "execution_count": 10,
   "id": "fcd2d12d",
   "metadata": {},
   "outputs": [
    {
     "name": "stdout",
     "output_type": "stream",
     "text": [
      "Total Revenue before Tax: \t$110,700.00\n",
      "Total Revenue 15% Sales Tax: \t$78,570.00\n",
      "Total Revenue 20% Sales Tax: \t$67,860.00\n",
      "Total Revenue 25% Sales Tax: \t$57,150.00\n"
     ]
    }
   ],
   "source": [
    "print(f'Total Revenue before Tax: \\t${total_net_revenue:,.2f}')\n",
    "print(f'Total Revenue 15% Sales Tax: \\t${total_net_revenue_at_15_tax:,.2f}')\n",
    "print(f'Total Revenue 20% Sales Tax: \\t${total_net_revenue_at_20_tax:,.2f}')\n",
    "print(f'Total Revenue 25% Sales Tax: \\t${total_net_revenue_at_25_tax:,.2f}')"
   ]
  },
  {
   "cell_type": "code",
   "execution_count": null,
   "id": "64e31cb5",
   "metadata": {},
   "outputs": [],
   "source": []
  }
 ],
 "metadata": {
  "kernelspec": {
   "display_name": "Python 3 (ipykernel)",
   "language": "python",
   "name": "python3"
  },
  "language_info": {
   "codemirror_mode": {
    "name": "ipython",
    "version": 3
   },
   "file_extension": ".py",
   "mimetype": "text/x-python",
   "name": "python",
   "nbconvert_exporter": "python",
   "pygments_lexer": "ipython3",
   "version": "3.9.13"
  }
 },
 "nbformat": 4,
 "nbformat_minor": 5
}
